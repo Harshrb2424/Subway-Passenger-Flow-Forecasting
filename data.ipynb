{
 "cells": [
  {
   "cell_type": "code",
   "execution_count": null,
   "id": "804de3ef",
   "metadata": {
    "vscode": {
     "languageId": "plaintext"
    }
   },
   "outputs": [],
   "source": [
    "import pandas as pd\n",
    "data=pd.read_csv(\"NYC_subway_traffic_2017-2021.csv\")\n",
    "# data = data.head()\n",
    "data\n",
    "data['Datetime'] = pd.to_datetime(data['Datetime'])\n",
    "data['Day'] = data['Datetime'].dt.dayofweek\n",
    "data['Hour'] = data['Datetime'].dt.hour\n",
    "data\n",
    "data = data[[\"Stop Name\" ,\"Line\", \"Hour\", \"Day\", \"Entries\", \"Exits\"]]\n",
    "data\n",
    "stop_name_unique = data['Stop Name'].unique()\n",
    "stop_name_mapping = {stop_name: idx for idx, stop_name in enumerate(stop_name_unique)}\n",
    "\n",
    "line_name_unique = data['Line'].unique()\n",
    "line_name_mapping = {line_name: idx for idx, line_name in enumerate(line_name_unique)}\n",
    "\n",
    "stop_name_mapping\n",
    "line_name_mapping\n",
    "\n",
    "import json\n",
    "\n",
    "with open('line_name_mapping.json', 'w') as f:\n",
    "    json.dump(line_name_mapping, f)\n",
    "\n",
    "# Save stop_name_mapping to JSON\n",
    "with open('stop_name_mapping.json', 'w') as f:\n",
    "    json.dump(stop_name_mapping, f)\n",
    "data['Stop Name'] = data['Stop Name'].map(stop_name_mapping)\n",
    "data['Line'] = data['Line'].map(line_name_mapping)\n",
    "data\n",
    "X = data.drop(['Entries','Exits'],axis=1)\n",
    "Y = data[['Entries','Exits']]\n",
    "from sklearn.model_selection import train_test_split\n",
    "X_train,X_test,Y_train,Y_test=train_test_split(X,Y,test_size=0.20,random_state=42)\n",
    "\n",
    "Y_train, Y_test\n",
    "\n",
    "from sklearn.ensemble import RandomForestRegressor\n",
    "rf = RandomForestRegressor()\n",
    "rf_final = rf.fit(X,Y)\n",
    "import joblib\n",
    "joblib.dump(rf_final,'traffic_predictor')\n"
   ]
  }
 ],
 "metadata": {
  "language_info": {
   "name": "python"
  }
 },
 "nbformat": 4,
 "nbformat_minor": 5
}
