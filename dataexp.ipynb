{
 "cells": [
  {
   "cell_type": "code",
   "execution_count": null,
   "id": "9e360efe",
   "metadata": {
    "vscode": {
     "languageId": "plaintext"
    }
   },
   "outputs": [],
   "source": [
    "import pandas as pd\n",
    "data=pd.read_csv(\"NYC_subway_traffic_2017-2021.csv\", nrows=100000)\n",
    "# data = data.head()\n",
    "data\n",
    "data['Datetime'] = pd.to_datetime(data['Datetime'])\n",
    "data['Day'] = data['Datetime'].dt.dayofweek\n",
    "data['Hour'] = data['Datetime'].dt.hour\n",
    "data\n",
    "data = data[[\"Stop Name\" ,\"Line\", \"Hour\", \"Day\", \"Entries\", \"Exits\"]]\n",
    "data\n",
    "stop_name_unique = data['Stop Name'].unique()\n",
    "stop_name_mapping = {stop_name: idx for idx, stop_name in enumerate(stop_name_unique)}\n",
    "\n",
    "line_name_unique = data['Line'].unique()\n",
    "line_name_mapping = {line_name: idx for idx, line_name in enumerate(line_name_unique)}\n",
    "\n",
    "stop_name_mapping\n",
    "line_name_mapping\n",
    "\n",
    "import json\n",
    "\n",
    "with open('line_name_mapping.json', 'w') as f:\n",
    "    json.dump(line_name_mapping, f)\n",
    "\n",
    "# Save stop_name_mapping to JSON\n",
    "with open('stop_name_mapping.json', 'w') as f:\n",
    "    json.dump(stop_name_mapping, f)\n",
    "data['Stop Name'] = data['Stop Name'].map(stop_name_mapping)\n",
    "data['Line'] = data['Line'].map(line_name_mapping)\n",
    "data\n",
    "X = data.drop(['Entries','Exits'],axis=1)\n",
    "Y = data[['Entries','Exits']]\n",
    "from sklearn.model_selection import train_test_split\n",
    "X_train,X_test,Y_train,Y_test=train_test_split(X,Y,test_size=0.20,random_state=42)\n",
    "\n",
    "Y_train, Y_test\n",
    "from sklearn.model_selection import train_test_split\n",
    "from sklearn.metrics import r2_score\n",
    "from sklearn.linear_model import LinearRegression\n",
    "from sklearn.ensemble import RandomForestRegressor\n",
    "from xgboost import XGBRegressor\n",
    "import pandas as pd\n",
    "\n",
    "# Instantiate models\n",
    "lr = LinearRegression()\n",
    "# Fit models\n",
    "lr.fit(X_train, Y_train)\n",
    "# Predictions\n",
    "y_pred_lr = lr.predict(X_test)\n",
    "# Evaluate models\n",
    "score_lr = r2_score(Y_test, y_pred_lr)\n",
    "print(f\"Linear Regression R2 score: {score_lr}\")\n",
    "\n",
    "rf = RandomForestRegressor()\n",
    "rf.fit(X_train, Y_train)\n",
    "y_pred_rf = rf.predict(X_test)\n",
    "score_rf = r2_score(Y_test, y_pred_rf)\n",
    "print(f\"Random Forest R2 score: {score_rf}\")\n",
    "\n",
    "xgb = XGBRegressor()\n",
    "xgb.fit(X_train, Y_train)\n",
    "y_pred_xgb = xgb.predict(X_test)\n",
    "score_xgb = r2_score(Y_test, y_pred_xgb)\n",
    "print(f\"XGBoost R2 score: {score_xgb}\")\n",
    "\n"
   ]
  }
 ],
 "metadata": {
  "language_info": {
   "name": "python"
  }
 },
 "nbformat": 4,
 "nbformat_minor": 5
}
